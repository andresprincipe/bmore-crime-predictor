{
 "cells": [
  {
   "cell_type": "code",
   "execution_count": null,
   "id": "69d30a89",
   "metadata": {},
   "outputs": [],
   "source": [
    "import os\n",
    "import sys\n",
    "import json\n",
    "import pandas as pd\n",
    "import ipywidgets as widgets\n",
    "module_path = r''+os.getcwd()+'/Baltimore_Data_Modules'\n",
    "sys.path.append(module_path)\n",
    "from BaltimoreDataExtraction import BmoreDataExtraction\n"
   ]
  },
  {
   "cell_type": "code",
   "execution_count": null,
   "id": "43d6e717",
   "metadata": {},
   "outputs": [],
   "source": [
    "API_filename = 'Bmore_API_Crime_link.json'\n",
    "f = open(os.getcwd()+'/'+API_filename)\n",
    "Bmore_API_Crime_link_dict = json.load(f)\n",
    "bde = BmoreDataExtraction(Bmore_API_Crime_link_dict)\n",
    "print('Types of Data:',bde.data_types_)"
   ]
  },
  {
   "cell_type": "code",
   "execution_count": null,
   "id": "c59d0df6",
   "metadata": {
    "scrolled": false
   },
   "outputs": [],
   "source": [
    "Full_Crime_dict = {}\n",
    "fullDataNames_li = []\n",
    "for data_type in bde.data_types_:\n",
    "    data_path_dict = bde.DownloadDataType(data_type)\n",
    "    partialDataName_li = bde.CleanDataNames(list(data_path_dict.keys()))\n",
    "    fullDataNames_li.append(partialDataName_li)\n",
    "    if data_type == 'TABULAR_DATA':\n",
    "        data_df_dict = bde.TabularDataToDF(data_path_dict)\n",
    "        Full_Crime_dict[data_type] = data_df_dict\n",
    "    else:\n",
    "        data_df_dict = bde.GeoDataToDF(data_path_dict)\n",
    "        Full_Crime_dict[data_type] = data_df_dict\n",
    "\n",
    "fullDataNames_li = [string for sublist in fullDataNames_li for string in sublist]\n",
    "pd.Series(fullDataNames_li).to_csv('CrimeFileNames.csv')"
   ]
  },
  {
   "cell_type": "code",
   "execution_count": null,
   "id": "1a9505f8",
   "metadata": {},
   "outputs": [],
   "source": [
    "CrimeFileNames_CSV_df = pd.read_csv('CrimeFileNames.csv').drop(columns='Unnamed: 0')\n",
    "\n",
    "\n",
    "d_select = widgets.SelectMultiple(options=list(CrimeFileNames_CSV_df['0']),\n",
    "                                  description='Data Selection:\\n',\n",
    "                                  rows=25,\n",
    "                                  layout={'width': 'max-content'},\n",
    "                                  disabled=False)\n",
    "d_select"
   ]
  },
  {
   "cell_type": "code",
   "execution_count": null,
   "id": "c8dd61c0",
   "metadata": {},
   "outputs": [],
   "source": [
    "selected = d_select.value\n",
    "selected\n"
   ]
  },
  {
   "cell_type": "code",
   "execution_count": null,
   "id": "9a931e2c",
   "metadata": {},
   "outputs": [],
   "source": []
  }
 ],
 "metadata": {
  "kernelspec": {
   "display_name": "Python 3 (ipykernel)",
   "language": "python",
   "name": "python3"
  },
  "language_info": {
   "codemirror_mode": {
    "name": "ipython",
    "version": 3
   },
   "file_extension": ".py",
   "mimetype": "text/x-python",
   "name": "python",
   "nbconvert_exporter": "python",
   "pygments_lexer": "ipython3",
   "version": "3.10.9"
  }
 },
 "nbformat": 4,
 "nbformat_minor": 5
}
