{
 "cells": [
  {
   "cell_type": "code",
   "execution_count": 1,
   "id": "d486e820-2a9a-4bbf-a386-828204c7058e",
   "metadata": {},
   "outputs": [
    {
     "data": {
      "text/html": [
       "<div style=\"font-family:monospace;background:#e6fee6;color:black\"><pre>Packages already installed: plotly, requests, tqdm</pre></div>"
      ],
      "text/plain": [
       "<IPython.core.display.HTML object>"
      ]
     },
     "metadata": {},
     "output_type": "display_data"
    },
    {
     "data": {
      "text/html": [
       "<div style=\"font-family:monospace;background:lightyellow;color:black\"><pre>No new packages installed</pre></div>"
      ],
      "text/plain": [
       "<IPython.core.display.HTML object>"
      ]
     },
     "metadata": {},
     "output_type": "display_data"
    },
    {
     "data": {
      "text/html": [
       "<div style=\"font-family:monospace;background:#eee;color:black\"><pre>Done</pre></div>"
      ],
      "text/plain": [
       "<IPython.core.display.HTML object>"
      ]
     },
     "metadata": {},
     "output_type": "display_data"
    }
   ],
   "source": [
    "import ipydeps\n",
    "ipydeps.pip(['requests','tqdm','plotly'])\n",
    "import pandas as pd\n",
    "import numpy as np\n",
    "from tqdm import tqdm\n",
    "import requests\n",
    "import json\n",
    "import os\n",
    "from datetime import date\n",
    "from datetime import datetime\n",
    "import plotly.express as px\n",
    "\n",
    "Bmore_API_Crime_link_dict = {'FEAT_COLLECT':\n",
    "                             {'Part 1 Crime Data':'https://services1.arcgis.com/UWYHeuuJISiGmgXx/arcgis/rest/services/Part1_Crime_Beta/FeatureServer/0/query?outFields=*&where=1%3D1&f=geojson'},\n",
    "                             'CSA_DATA':\n",
    "                             {'Percent of Adult Population on Parole/Probation - Community Statistical Area':'https://services1.arcgis.com/mVFRs7NF4iFitgbY/arcgis/rest/services/Prbprl/FeatureServer/0/query?outFields=*&where=1%3D1&f=geojson',\n",
    "                              'Property Crime Rate per 1,000 Residents - Community Statistical Area':'https://services1.arcgis.com/mVFRs7NF4iFitgbY/arcgis/rest/services/Prop/FeatureServer/0/query?outFields=*&where=1%3D1&f=geojson',\n",
    "                              'Violent Crime Rate per 1,000 Residents - Community Statistical Area':'https://services1.arcgis.com/mVFRs7NF4iFitgbY/arcgis/rest/services/Viol/FeatureServer/0/query?outFields=*&where=1%3D1&f=geojson',\n",
    "                              'Part 1 Crime Rate per 1,000 Residents - Community Statistical Area':'https://services1.arcgis.com/mVFRs7NF4iFitgbY/arcgis/rest/services/Crime/FeatureServer/0/query?outFields=*&where=1%3D1&f=geojson',\n",
    "                              'Number of Gun-Related Homicides per 1,000 Residents - Community Statistical Area':'https://services1.arcgis.com/mVFRs7NF4iFitgbY/arcgis/rest/services/Gunhom/FeatureServer/0/query?outFields=*&where=1%3D1&f=geojson',\n",
    "                              'Number of Arrests per 1,000 Residents - Community Statistical Area':'https://services1.arcgis.com/mVFRs7NF4iFitgbY/arcgis/rest/services/Arrests/FeatureServer/0/query?outFields=*&where=1%3D1&f=geojson',\n",
    "                              'Domestic Violence Calls For Service per 1,000 Residents - Community Statistical Area':'https://services1.arcgis.com/mVFRs7NF4iFitgbY/arcgis/rest/services/Juvarr/FeatureServer/0/query?outFields=*&where=1%3D1&f=geojson',\n",
    "                              'Juvenile Arrest Rate per 1,000 Juveniles - Community Statistical Area':'https://services1.arcgis.com/mVFRs7NF4iFitgbY/arcgis/rest/services/Juvarr/FeatureServer/0/query?outFields=*&where=1%3D1&f=geojson',\n",
    "                              'Juvenile Arrest Rate for Violent Offenses per 1,000 Juveniles - Community Statistical Area':'https://services1.arcgis.com/mVFRs7NF4iFitgbY/arcgis/rest/services/Juvviol/FeatureServer/0/query?outFields=*&where=1%3D1&f=geojson',\n",
    "                              'Juvenile Arrest Rate for Drug-Related Offenses per 1,000 Juveniles - Community Statistical Area':'https://services1.arcgis.com/mVFRs7NF4iFitgbY/arcgis/rest/services/Juvdrug/FeatureServer/0/query?outFields=*&where=1%3D1&f=geojson',\n",
    "                              'Number of Narcotics Calls for Service per 1,000 Residents - Community Statistical Area':'https://services1.arcgis.com/mVFRs7NF4iFitgbY/arcgis/rest/services/Narc/FeatureServer/0/query?outFields=*&where=1%3D1&f=geojson'}}\n",
    "\n",
    "\n",
    "class BmoreDataExtraction:\n",
    "    \"\"\"\n",
    "    This class is meant to download a large number of JSON files based on an \n",
    "    input dictionary that contains API links to Baltimore's Open Data.\n",
    "    \n",
    "    The input dictionary must be in the following format:\n",
    "        {'DATA_TYPE_1':\n",
    "            {'DATA_NAME_A':'API_LINK_A',\n",
    "             'DATA_NAME_B':'API_LINK_B',\n",
    "             'DATA_NAME_C':'API_LINK_C'},\n",
    "         'DATA_TYPE_2':\n",
    "            {'DATA_NAME_A':'API_LINK_A',\n",
    "             'DATA_NAME_B':'API_LINK_B',\n",
    "             'DATA_NAME_C':'API_LINK_C'}\n",
    "        }\n",
    "    Example:\n",
    "        {'TABULAR_DATA':\n",
    "            {'Part 1 Crime Data':'https://opendata.baltimorecity.gov/egis/rest/ ...so on so forth'}}\n",
    "\n",
    "    Baltimore's Open Data uses arcgis to store most (if not all) of their \n",
    "    data. This class can also help you change multiple storage formats of \n",
    "    baltimore data into a pandas DataFrame for other uses.\n",
    "    \"\"\"\n",
    "    def __init__(self,API_dict):\n",
    "        self.API_dict_ = API_dict\n",
    "        self.data_types_ = list(API_dict.keys())\n",
    "    \n",
    "    def CleanDataNames(self,some_list):\n",
    "        clean_list = [dataName.replace(' ','_').replace(',','').replace('-','').replace('/','_')\n",
    "                      for dataName in some_list]\n",
    "        return clean_list\n",
    "    \n",
    "    def LinkCheck(self,data_type_str):\n",
    "        HTTP_Status_dict = {data_name:requests.get(self.API_dict_[data_type_str][data_name]).status_code \n",
    "                            for data_name in self.API_dict_[data_type_str].keys()}\n",
    "        available_li = [name if HTTP_Status_dict[name] == 200 else None \n",
    "                        for name in HTTP_Status_dict.keys()]\n",
    "        return HTTP_Status_dict, available_li\n",
    "\n",
    "    def createDataPath(self,existing_dir=None):\n",
    "        cwd = os.getcwd()\n",
    "        if existing_dir is None:\n",
    "            Bmore_data_path = cwd+'/Baltimore_Data/'\n",
    "            return Bmore_data_path \n",
    "        else:\n",
    "            Bmore_data_path = cwd+'/'+existing_dir+'/Baltimore_Data/'\n",
    "            return Bmore_data_path\n",
    "    \n",
    "    def DownloadDataType(self,data_type_str,chosen_dir=None):\n",
    "        HTTP_Status_dict, available_li = self.LinkCheck(data_type_str)\n",
    "        clean_available_li = self.CleanDataNames(available_li)\n",
    "        OGName_CleanName_dict = dict(zip(available_li,clean_available_li))\n",
    "        print('Downloading Available Baltimore Data...')\n",
    "        if chosen_dir is None:\n",
    "            path_str = self.createDataPath()\n",
    "        if chosen_dir is not None:\n",
    "            path_str = self.createDataPath(chosen_dir)\n",
    "        if os.path.exists(path_str) is False:\n",
    "            os.mkdir(path_str)\n",
    "        DataPath_dict = {}\n",
    "        for data_name in tqdm(available_li):\n",
    "            filename_str = OGName_CleanName_dict[data_name]+'_'+str(date.today())+'.json'\n",
    "            full_path_str = path_str+filename_str\n",
    "            r = requests.get(self.API_dict_[data_type_str][data_name])\n",
    "            with open(path_str+filename_str, \"w+\") as f:\n",
    "                json.dump(r.json(), f)\n",
    "            DataPath_dict[data_name] = path_str+filename_str\n",
    "        return DataPath_dict\n",
    "    \n",
    "    def TabularDataToDF(self,DataPath_dict):\n",
    "        # This function can extract all the tabular data specified in your \n",
    "        # API link dictionary.\n",
    "        print('Turning tabular data Into DataFrames...')\n",
    "        TABULAR_DATA_DF_dict = {}\n",
    "        for key in tqdm(DataPath_dict.keys()):\n",
    "            f = open(DataPath_dict[key])\n",
    "            oneTableData_dict = json.load(f)\n",
    "            row_li = [sub_dict['properties'] for sub_dict in oneTableData_dict['features']]\n",
    "            OneTable_df = pd.DataFrame(row_li)\n",
    "            TABULAR_DATA_DF_dict[key] = OneTable_df\n",
    "        return TABULAR_DATA_DF_dict\n",
    "    \n",
    "    def FeatureCollectionToDF(self,DataPath_dict):\n",
    "        print('Turning Feature Collections data Into DataFrames...')\n",
    "        FEAT_DATA_DF_dict = {}\n",
    "        for key in tqdm(DataPath_dict.keys()):\n",
    "            f = open(DataPath_dict[key])\n",
    "            oneTableData_dict = json.load(f)\n",
    "            FEAT_DATA_DF_dict[key] = self.ExtractAllProperties(oneTableData_dict)\n",
    "        return FEAT_DATA_DF_dict\n",
    "        \n",
    "        \n",
    "    def GenerateMeanGeoDict(self,lon_lat_ar):\n",
    "        # This function expects an input of a 2d numpy array where the first\n",
    "        # column is the Longitude and the second column is the Latitude.\n",
    "        mean_geo_ar = np.mean(lon_lat_ar,axis=0)\n",
    "        std_geo_ar = np.std(lon_lat_ar,axis=0)\n",
    "        row_dict = {'MEAN_LAT':[mean_geo_ar[1]],\n",
    "                    'MEAN_LON':[mean_geo_ar[0]],\n",
    "                    'STD_LAT':[std_geo_ar[1]],\n",
    "                    'STD_LON':[std_geo_ar[0]]}\n",
    "        return row_dict\n",
    "    \n",
    "    def ExtractAllProperties(self,oneDataFile_dict):\n",
    "        row_li = [sub_dict['properties'] for sub_dict in oneDataFile_dict['features']]\n",
    "        return pd.DataFrame(row_li)\n",
    "    \n",
    "    def ExtractAllCoordinates(self,oneDataFile_dict):\n",
    "        AREAgeo_ar_li = [np.array(AREA['geometry']['coordinates'][0]) \n",
    "                        for AREA in oneDataFile_dict['features']]\n",
    "        GeoStatFrames_li = []\n",
    "        for ar in AREAgeo_ar_li:\n",
    "            # check to see if shape is length of 2 \n",
    "            # then generate means and standard deviations.\n",
    "            if len(ar.shape) > 2:\n",
    "                bad_shape_tu = ar.shape\n",
    "                new_shape_tu = (bad_shape_tu[1],bad_shape_tu[2])\n",
    "                new_ar = np.reshape(ar,new_shape_tu)\n",
    "                new_row_dict = self.GenerateMeanGeoDict(new_ar)\n",
    "                GeoStatFrames_li.append(pd.DataFrame(new_row_dict))\n",
    "            else:\n",
    "                row_dict = self.GenerateMeanGeoDict(ar)\n",
    "                GeoStatFrames_li.append(pd.DataFrame(row_dict))\n",
    "        meanGeos_df = pd.concat(GeoStatFrames_li).reset_index(drop=True)\n",
    "        return meanGeos_df\n",
    "\n",
    "    def GeoDataToDF(self,DataPath_dict):\n",
    "        # This function can extract all the \"Community Statistical Area\" (CSA) data \n",
    "        # and City level data specified in your API link dictionary.\n",
    "        print('Turning Geo JSON data into DataFrames...')\n",
    "        GEO_DATA_DF_dict = {}\n",
    "        for key in tqdm(DataPath_dict.keys()):\n",
    "            f = open(DataPath_dict[key])\n",
    "            oneGeoData_dict = json.load(f)\n",
    "            # This DataFrame contains the properties of a given Community Statistical Area (CSA)\n",
    "            properties_df = self.ExtractAllProperties(oneGeoData_dict)\n",
    "            # This DataFrame contains the mean latitudes and mean longitudes of a given\n",
    "            # Community Statistical Area (CSA)\n",
    "            meanGeos_df = self.ExtractAllCoordinates(oneGeoData_dict)\n",
    "            GEO_DATA_df = properties_df.merge(meanGeos_df,left_index=True,right_index=True)\n",
    "            GEO_DATA_DF_dict[key] = GEO_DATA_df\n",
    "        return GEO_DATA_DF_dict\n",
    "\n",
    "bde = BmoreDataExtraction(Bmore_API_Crime_link_dict)"
   ]
  },
  {
   "cell_type": "code",
   "execution_count": 2,
   "id": "76db6249-6aca-4ebc-84c8-2de37f91a7df",
   "metadata": {},
   "outputs": [
    {
     "data": {
      "text/plain": [
       "['FEAT_COLLECT', 'CSA_DATA']"
      ]
     },
     "execution_count": 2,
     "metadata": {},
     "output_type": "execute_result"
    }
   ],
   "source": [
    "bde.data_types_"
   ]
  },
  {
   "cell_type": "code",
   "execution_count": 3,
   "id": "88dd8eaa-6284-410e-b64d-9c5f495a6caa",
   "metadata": {},
   "outputs": [
    {
     "data": {
      "text/plain": [
       "({'Part 1 Crime Data': 200}, ['Part 1 Crime Data'])"
      ]
     },
     "execution_count": 3,
     "metadata": {},
     "output_type": "execute_result"
    }
   ],
   "source": [
    "bde.LinkCheck('FEAT_COLLECT')"
   ]
  },
  {
   "cell_type": "code",
   "execution_count": 4,
   "id": "5d026d7e-adec-4f87-82a3-d52e05bdc404",
   "metadata": {},
   "outputs": [
    {
     "name": "stdout",
     "output_type": "stream",
     "text": [
      "Downloading Available Baltimore Data...\n"
     ]
    },
    {
     "name": "stderr",
     "output_type": "stream",
     "text": [
      "100%|█████████████████████████████████████████████| 1/1 [00:00<00:00,  6.77it/s]\n"
     ]
    }
   ],
   "source": [
    "DataPath_dict = bde.DownloadDataType('FEAT_COLLECT')"
   ]
  },
  {
   "cell_type": "code",
   "execution_count": 5,
   "id": "55d57632-67ed-4693-8bb2-66f004f6031b",
   "metadata": {},
   "outputs": [
    {
     "name": "stdout",
     "output_type": "stream",
     "text": [
      "Turning Feature Collections data Into DataFrames...\n"
     ]
    },
    {
     "name": "stderr",
     "output_type": "stream",
     "text": [
      "100%|████████████████████████████████████████████| 1/1 [00:00<00:00, 120.25it/s]\n"
     ]
    },
    {
     "data": {
      "text/plain": [
       "{'Part 1 Crime Data':       RowID  CCNumber  CrimeDateTime CrimeCode        Description  \\\n",
       " 0         1  12A01562  1325237820000        6E            LARCENY   \n",
       " 1         2  11L12669  1325205360000       3JF            ROBBERY   \n",
       " 2         3  11L13076  1325278800000       3AO            ROBBERY   \n",
       " 3         4  12A00628  1325235600000        5A           BURGLARY   \n",
       " 4         5  11L13140  1325203980000        4C       AGG. ASSAULT   \n",
       " ...     ...       ...            ...       ...                ...   \n",
       " 1995   1996  23J00105  1696122000000        6D  LARCENY FROM AUTO   \n",
       " 1996   1997  23J02465  1696611600000        7A         AUTO THEFT   \n",
       " 1997   1998  23J02411  1696623029000        4A       AGG. ASSAULT   \n",
       " 1998   1999  23J07446  1696622400000        7B         AUTO THEFT   \n",
       " 1999   2000  23J07319  1696620600000        5F           BURGLARY   \n",
       " \n",
       "      Inside_Outside         Weapon Post Gender   Age  ...  \\\n",
       " 0                 I             NA  214      M    42  ...   \n",
       " 1                 I        FIREARM  423      M    22  ...   \n",
       " 2                 O          OTHER  432      M  None  ...   \n",
       " 3                 I             NA  913      F    28  ...   \n",
       " 4                 O          OTHER  222      M    21  ...   \n",
       " ...             ...            ...  ...    ...   ...  ...   \n",
       " 1995         Inside           None  133      F    27  ...   \n",
       " 1996         Inside           None  212      M    34  ...   \n",
       " 1997         Inside  OTHER_FIREARM  311      F    38  ...   \n",
       " 1998         Inside           None  433      F    46  ...   \n",
       " 1999        Outside           None  932      F    28  ...   \n",
       " \n",
       "                    Ethnicity              Location Old_District New_District  \\\n",
       " 0                       None        2300 BOSTON ST    SOUTHEAST          N/A   \n",
       " 1                       None    6600 MOONFLOWER CT    NORTHEAST          N/A   \n",
       " 2                       None       3400 SHANNON DR    NORTHEAST          N/A   \n",
       " 3                       None      600 E JEFFREY ST     SOUTHERN          N/A   \n",
       " 4                       None   2900 E BALTIMORE ST    SOUTHEAST          N/A   \n",
       " ...                      ...                   ...          ...          ...   \n",
       " 1995  NOT_HISPANIC_OR_LATINO  1500 E FAIRMOUNT AVE          N/A      CENTRAL   \n",
       " 1996      HISPANIC_OR_LATINO     3600 CLAREMONT ST          N/A    SOUTHEAST   \n",
       " 1997  NOT_HISPANIC_OR_LATINO     1700 LOVEGROVE ST          N/A      EASTERN   \n",
       " 1998  NOT_HISPANIC_OR_LATINO       5300 GOODNOW RD          N/A    NORTHEAST   \n",
       " 1999  NOT_HISPANIC_OR_LATINO        800 CARROLL ST          N/A     SOUTHERN   \n",
       " \n",
       "                      Neighborhood            Latitude            Longitude  \\\n",
       " 0                          CANTON           39.282869           -76.584281   \n",
       " 1                  HAMILTON HILLS           39.367758           -76.570626   \n",
       " 2                   BELAIR-EDISON           39.323386           -76.562701   \n",
       " 3                        BROOKLYN           39.232993           -76.602909   \n",
       " 4     PATTERSON PARK NEIGHBORHOOD           39.292284           -76.576114   \n",
       " ...                           ...                 ...                  ...   \n",
       " 1995              WASHINGTON HILL  39.292261000000003  -76.596574000000004   \n",
       " 1996                 HIGHLANDTOWN  39.289521000000001  -76.567268999999996   \n",
       " 1997                CHARLES NORTH  39.308925117827314  -76.615679712620846   \n",
       " 1998                    FRANKFORD  39.323608999999998  -76.543032999999994   \n",
       " 1999   WASHINGTON VILLAGE/PIGTOWN  39.282080999999998  -76.630950999999996   \n",
       " \n",
       "                                    GeoLocation           PremiseType  \\\n",
       " 0                       (39.282869,-76.584281)  GARAGE ON PRIV. PROP   \n",
       " 1                       (39.367758,-76.570626)     ROW/TOWNHOUSE-OCC   \n",
       " 2                       (39.323386,-76.562701)                 ALLEY   \n",
       " 3                       (39.232993,-76.602909)     ROW/TOWNHOUSE-OCC   \n",
       " 4                       (39.292284,-76.576114)  STREET                 \n",
       " ...                                        ...                   ...   \n",
       " 1995  (39.292261000000003,-76.596574000000004)                STREET   \n",
       " 1996  (39.289521000000001,-76.567268999999996)                STREET   \n",
       " 1997  (39.308925117827314,-76.615679712620846)                STREET   \n",
       " 1998  (39.323608999999998,-76.543032999999994)           SHED/GARAGE   \n",
       " 1999  (39.282080999999998,-76.630950999999996)     OTHER/RESIDENTIAL   \n",
       " \n",
       "      Total_Incidents  \n",
       " 0                  1  \n",
       " 1                  1  \n",
       " 2                  1  \n",
       " 3                  1  \n",
       " 4                  1  \n",
       " ...              ...  \n",
       " 1995               1  \n",
       " 1996               1  \n",
       " 1997               1  \n",
       " 1998               1  \n",
       " 1999               1  \n",
       " \n",
       " [2000 rows x 21 columns]}"
      ]
     },
     "execution_count": 5,
     "metadata": {},
     "output_type": "execute_result"
    }
   ],
   "source": [
    "bde.FeatureCollectionToDF(DataPath_dict)"
   ]
  },
  {
   "cell_type": "code",
   "execution_count": null,
   "id": "03417357-6235-4072-abb8-a54b73a1ed78",
   "metadata": {},
   "outputs": [],
   "source": [
    " "
   ]
  },
  {
   "cell_type": "code",
   "execution_count": null,
   "id": "f6d13c92-0012-4f62-938a-d5fddf20b1a0",
   "metadata": {},
   "outputs": [],
   "source": []
  }
 ],
 "metadata": {
  "kernelspec": {
   "display_name": "Python 3 (ipykernel)",
   "language": "python",
   "name": "python3"
  },
  "language_info": {
   "codemirror_mode": {
    "name": "ipython",
    "version": 3
   },
   "file_extension": ".py",
   "mimetype": "text/x-python",
   "name": "python",
   "nbconvert_exporter": "python",
   "pygments_lexer": "ipython3",
   "version": "3.11.5"
  }
 },
 "nbformat": 4,
 "nbformat_minor": 5
}
